{
 "cells": [
  {
   "cell_type": "code",
   "execution_count": 1,
   "id": "f38b79b0",
   "metadata": {},
   "outputs": [],
   "source": [
    "# Excercise-Dictionaries\n",
    "#Create an empty dictionary called bird\n",
    "bird = {}"
   ]
  },
  {
   "cell_type": "code",
   "execution_count": 2,
   "id": "3428ec04",
   "metadata": {},
   "outputs": [],
   "source": [
    "#Add name, color, breed, legs, age to the bird dictionary\n",
    "bird.update({'Name': 'Parrot', 'color': 'blue', 'breed': 'wild'})\n",
    "bird.update({'legs': 2, 'age': 6})\n"
   ]
  },
  {
   "cell_type": "code",
   "execution_count": 3,
   "id": "d0ed162e",
   "metadata": {},
   "outputs": [],
   "source": [
    "# Create a student dictionary and add first_name, last_name, gender, age, marital_status, skills, \n",
    "#country, city and address as keys for the dictionary\n",
    "student = {'first_name': 'Ashraf', 'last_name': 'Hassan', 'gender': 'Male',\n",
    "           'age': 19, 'marital_status': 'single', 'country': 'Kenya',\n",
    "           'skills': ['dancing', 'comedian'], 'city': 'Mombasa', 'address': 80100}\n"
   ]
  },
  {
   "cell_type": "code",
   "execution_count": 4,
   "id": "6883a229",
   "metadata": {},
   "outputs": [
    {
     "name": "stdout",
     "output_type": "stream",
     "text": [
      "9\n"
     ]
    }
   ],
   "source": [
    "#4.Get the length of the student dictionary\n",
    "print(len(student))  \n"
   ]
  },
  {
   "cell_type": "code",
   "execution_count": 5,
   "id": "3699f0e0",
   "metadata": {},
   "outputs": [
    {
     "name": "stdout",
     "output_type": "stream",
     "text": [
      "['dancing', 'comedian']\n",
      "<class 'list'>\n"
     ]
    }
   ],
   "source": [
    "#5.Get the value of skills and check the data type, it should be a list\n",
    "print(student.get('skills')) \n",
    "print(type(student['skills']))  "
   ]
  },
  {
   "cell_type": "code",
   "execution_count": 6,
   "id": "1eb9b7ed",
   "metadata": {},
   "outputs": [
    {
     "name": "stdout",
     "output_type": "stream",
     "text": [
      "['dancing', 'comedian', 'football', 'coding']\n"
     ]
    }
   ],
   "source": [
    "#6.Modify the skills values by adding one or two skills\n",
    "student.update({'skills': ['dancing', 'comedian', 'football', 'coding']})\n",
    "print(student.get('skills'))"
   ]
  },
  {
   "cell_type": "code",
   "execution_count": 8,
   "id": "205f441a",
   "metadata": {},
   "outputs": [
    {
     "name": "stdout",
     "output_type": "stream",
     "text": [
      "['Name', 'color', 'breed', 'legs', 'age']\n"
     ]
    }
   ],
   "source": [
    "#7.Get the dictionary keys as a list\n",
    "bird_list = []\n",
    "for x in bird.keys():\n",
    "    bird_list.append(x)\n",
    "print(bird_list)\n"
   ]
  },
  {
   "cell_type": "code",
   "execution_count": 9,
   "id": "e5e94469",
   "metadata": {},
   "outputs": [
    {
     "name": "stdout",
     "output_type": "stream",
     "text": [
      "['Parrot', 'blue', 'wild', 2, 6]\n"
     ]
    }
   ],
   "source": [
    "#8.Get the dictionary values as a list\n",
    "bird_list1 = []\n",
    "for x in bird.values():\n",
    "    bird_list1.append(x)\n",
    "print(bird_list1)\n"
   ]
  },
  {
   "cell_type": "code",
   "execution_count": 10,
   "id": "a2a2220c",
   "metadata": {},
   "outputs": [
    {
     "name": "stdout",
     "output_type": "stream",
     "text": [
      "[('Name', 'Parrot'), ('color', 'blue'), ('breed', 'wild'), ('legs', 2), ('age', 6)]\n"
     ]
    }
   ],
   "source": [
    "#9.Change the dictionary to a list of tuples using items() method\n",
    "the_tuple = []\n",
    "for t in bird.items():\n",
    "    the_tuple.append(tuple(t))\n",
    "\n",
    "print(the_tuple)\n"
   ]
  },
  {
   "cell_type": "code",
   "execution_count": 11,
   "id": "4386e20d",
   "metadata": {},
   "outputs": [
    {
     "data": {
      "text/plain": [
       "'wild'"
      ]
     },
     "execution_count": 11,
     "metadata": {},
     "output_type": "execute_result"
    }
   ],
   "source": [
    "#10.Delete one of the items in the dictionary\n",
    "bird.pop('breed')"
   ]
  },
  {
   "cell_type": "code",
   "execution_count": 12,
   "id": "7f48e719",
   "metadata": {},
   "outputs": [],
   "source": [
    "#11.Delete one of the dictionaries\n",
    "student.clear()"
   ]
  },
  {
   "cell_type": "code",
   "execution_count": null,
   "id": "0ed54f0e",
   "metadata": {},
   "outputs": [],
   "source": []
  }
 ],
 "metadata": {
  "kernelspec": {
   "display_name": "Python 3 (ipykernel)",
   "language": "python",
   "name": "python3"
  },
  "language_info": {
   "codemirror_mode": {
    "name": "ipython",
    "version": 3
   },
   "file_extension": ".py",
   "mimetype": "text/x-python",
   "name": "python",
   "nbconvert_exporter": "python",
   "pygments_lexer": "ipython3",
   "version": "3.9.7"
  }
 },
 "nbformat": 4,
 "nbformat_minor": 5
}
