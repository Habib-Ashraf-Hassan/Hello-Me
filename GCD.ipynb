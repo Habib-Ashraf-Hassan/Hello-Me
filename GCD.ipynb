{
 "cells": [
  {
   "cell_type": "code",
   "execution_count": 1,
   "id": "191439c2",
   "metadata": {},
   "outputs": [],
   "source": [
    "# Finding GCD of two numbers\n",
    "# Hint1:GCD is a divisor of both two numbers i.e can divide both numbers without remainder\n",
    "# Hint2: It is less than or equal to the minimum of the numbers\n",
    "# lastly one is a divisor of any  number"
   ]
  },
  {
   "cell_type": "code",
   "execution_count": 2,
   "id": "7a42f4c7",
   "metadata": {},
   "outputs": [],
   "source": [
    "# creating function gcd\n",
    "def gcd(a, b):\n",
    "    numbers = []\n",
    "    count = 1  #one is a divisor of any number\n",
    "    numbers.extend([a, b])\n",
    "    gcd = min(numbers)  #finding minimum of the two numbers\n",
    "    c = 0\n",
    "    while count <= gcd:  #gcd cannot exceed the minimum of the 2 numbers, NB: minimum was named gcd\n",
    "        if a % count == 0 and b % count == 0:\n",
    "            c = count\n",
    "        count += 1\n",
    "    return c  #c is the GCD\n",
    "        \n",
    "        "
   ]
  },
  {
   "cell_type": "code",
   "execution_count": 3,
   "id": "6b29e417",
   "metadata": {},
   "outputs": [
    {
     "name": "stdout",
     "output_type": "stream",
     "text": [
      "9\n"
     ]
    }
   ],
   "source": [
    "print(gcd(9, 27))"
   ]
  },
  {
   "cell_type": "code",
   "execution_count": 4,
   "id": "886d75e7",
   "metadata": {},
   "outputs": [
    {
     "name": "stdout",
     "output_type": "stream",
     "text": [
      "1\n"
     ]
    }
   ],
   "source": [
    "print(gcd(3, 11))"
   ]
  },
  {
   "cell_type": "code",
   "execution_count": 5,
   "id": "af0c6f19",
   "metadata": {},
   "outputs": [
    {
     "name": "stdout",
     "output_type": "stream",
     "text": [
      "12\n"
     ]
    }
   ],
   "source": [
    "print(gcd(60, 108))"
   ]
  },
  {
   "cell_type": "code",
   "execution_count": 8,
   "id": "76ddf9bc",
   "metadata": {},
   "outputs": [
    {
     "name": "stdout",
     "output_type": "stream",
     "text": [
      "50\n"
     ]
    }
   ],
   "source": [
    "print(gcd(50, 100))"
   ]
  },
  {
   "cell_type": "code",
   "execution_count": 10,
   "id": "735a6cfa",
   "metadata": {},
   "outputs": [
    {
     "name": "stdout",
     "output_type": "stream",
     "text": [
      "27\n"
     ]
    }
   ],
   "source": [
    "print(gcd(54, 135))"
   ]
  },
  {
   "cell_type": "code",
   "execution_count": null,
   "id": "e16305fe",
   "metadata": {},
   "outputs": [],
   "source": []
  }
 ],
 "metadata": {
  "kernelspec": {
   "display_name": "Python 3 (ipykernel)",
   "language": "python",
   "name": "python3"
  },
  "language_info": {
   "codemirror_mode": {
    "name": "ipython",
    "version": 3
   },
   "file_extension": ".py",
   "mimetype": "text/x-python",
   "name": "python",
   "nbconvert_exporter": "python",
   "pygments_lexer": "ipython3",
   "version": "3.9.7"
  }
 },
 "nbformat": 4,
 "nbformat_minor": 5
}
