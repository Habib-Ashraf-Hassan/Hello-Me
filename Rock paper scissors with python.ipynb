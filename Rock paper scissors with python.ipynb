{
 "cells": [
  {
   "cell_type": "code",
   "execution_count": 15,
   "id": "3e3e7bbb",
   "metadata": {},
   "outputs": [],
   "source": [
    "# Rock paper scissors game"
   ]
  },
  {
   "cell_type": "code",
   "execution_count": 16,
   "id": "d0539ad1",
   "metadata": {},
   "outputs": [],
   "source": [
    "import random\n",
    "game = ['rock', 'paper', 'scissors']\n",
    "computer = random.choice(game)  #letting the computer pick a random choice from game list\n",
    "switch = 1  ## switch to use in my while loop"
   ]
  },
  {
   "cell_type": "code",
   "execution_count": 17,
   "id": "920729be",
   "metadata": {},
   "outputs": [
    {
     "name": "stdout",
     "output_type": "stream",
     "text": [
      "Choose between (rock/paper/scissors):rock\n",
      "The computer/opponent chose: rock\n",
      "Its a DRAW\n",
      "Do you wish to continue?(YES/NO)yes\n",
      "Choose between (rock/paper/scissors):paper\n",
      "The computer/opponent chose: rock\n",
      "You WIN!\n",
      "Do you wish to continue?(YES/NO)yes\n",
      "Choose between (rock/paper/scissors):rock\n",
      "The computer/opponent chose: rock\n",
      "Its a DRAW\n",
      "Do you wish to continue?(YES/NO)yes\n",
      "Choose between (rock/paper/scissors):scissors\n",
      "The computer/opponent chose: rock\n",
      "You lose!\n",
      "Do you wish to continue?(YES/NO)no\n"
     ]
    }
   ],
   "source": [
    "# the game\n",
    "while switch == 1:\n",
    "    player = input('Choose between (rock/paper/scissors):').lower()  #letting the player choose\n",
    "    print('The computer/opponent chose:', format(computer))  #displaying what computer chose\n",
    "    if player == computer:\n",
    "        print('Its a DRAW')\n",
    "    elif player == 'rock':\n",
    "        if computer == 'scissors':\n",
    "            print('You WIN!')\n",
    "        elif computer == 'paper':\n",
    "            print('You lose!')\n",
    "    elif player == 'paper':\n",
    "        if computer == 'rock':\n",
    "            print('You WIN!')\n",
    "        elif computer == 'scissors':\n",
    "            print('You lose!')\n",
    "    elif player == 'scissors':\n",
    "        if computer == 'paper':\n",
    "            print('You WIN!')\n",
    "        elif computer == 'rock':\n",
    "            print('You lose!')\n",
    "    else:\n",
    "        print('INVALID choice!')\n",
    "    \n",
    "    #Asking player if he wishes to continue/ wants a rematch\n",
    "\n",
    "    play_again = input(\"Do you wish to continue?(YES/NO)\").upper()  \n",
    "    if play_again != 'YES':\n",
    "        switch = 0  #switch turned off to exit the loop and quit from the game\n"
   ]
  },
  {
   "cell_type": "code",
   "execution_count": 9,
   "id": "8de4579c",
   "metadata": {},
   "outputs": [],
   "source": [
    "# keeping any choice other than \"yes\" exits from the loop and ends the game"
   ]
  },
  {
   "cell_type": "code",
   "execution_count": 10,
   "id": "6970a04a",
   "metadata": {},
   "outputs": [],
   "source": [
    "# upper() and lower() made us to getrid of case errors"
   ]
  },
  {
   "cell_type": "code",
   "execution_count": null,
   "id": "babf7c4a",
   "metadata": {},
   "outputs": [],
   "source": []
  }
 ],
 "metadata": {
  "kernelspec": {
   "display_name": "Python 3 (ipykernel)",
   "language": "python",
   "name": "python3"
  },
  "language_info": {
   "codemirror_mode": {
    "name": "ipython",
    "version": 3
   },
   "file_extension": ".py",
   "mimetype": "text/x-python",
   "name": "python",
   "nbconvert_exporter": "python",
   "pygments_lexer": "ipython3",
   "version": "3.9.7"
  }
 },
 "nbformat": 4,
 "nbformat_minor": 5
}
