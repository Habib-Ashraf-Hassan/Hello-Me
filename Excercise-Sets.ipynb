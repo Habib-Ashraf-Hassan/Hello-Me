{
 "cells": [
  {
   "cell_type": "code",
   "execution_count": 1,
   "id": "80a462d5",
   "metadata": {},
   "outputs": [],
   "source": [
    "#Exercises ➞ Level 1\n",
    "mix_fruits = {'Guava', 'Pear', 'Mango', 'Apple', 'Fig', 'Orange', 'Banana'}\n",
    "A = {19, 22, 24, 20, 25, 26}\n",
    "B = {19, 22, 20, 25, 26, 24, 28, 27}\n",
    "num = [22, 19, 24, 25, 26, 24, 25, 24]\n"
   ]
  },
  {
   "cell_type": "code",
   "execution_count": null,
   "id": "f857a119",
   "metadata": {},
   "outputs": [],
   "source": [
    "#1.\tFind the length of the set mix_fruits\n",
    "print(len(mix_fruits))  "
   ]
  },
  {
   "cell_type": "code",
   "execution_count": null,
   "id": "ca48b16a",
   "metadata": {},
   "outputs": [],
   "source": [
    "#2.\tAdd 'Kiwi' to mix_fruits\n",
    "mix_fruits.add('Kiwi')"
   ]
  },
  {
   "cell_type": "code",
   "execution_count": null,
   "id": "64a8e1ec",
   "metadata": {},
   "outputs": [],
   "source": [
    "#3.\tInsert multiple fruits at once to the set mix_fruits\n",
    "mix_fruits.update(['Pineapple', 'Melon', 'Berry'])"
   ]
  },
  {
   "cell_type": "code",
   "execution_count": null,
   "id": "ccf49aae",
   "metadata": {},
   "outputs": [],
   "source": [
    "#4.\tRemove one of the fruit from the set mix_fruits\n",
    "mix_fruits.discard('Fig')\n",
    "print(mix_fruits)"
   ]
  },
  {
   "cell_type": "code",
   "execution_count": 2,
   "id": "0c2e5531",
   "metadata": {},
   "outputs": [],
   "source": [
    "#5.\tWhat is the difference between remove and discard\n",
    "#remove() deletes an element from a set but if you put something that doesnt belong to the set it will throw an error\n",
    "# discard() also deletes and element but even if you put sth in the argument which isnt a member it wont throw an error"
   ]
  },
  {
   "cell_type": "code",
   "execution_count": 12,
   "id": "0bd18cad",
   "metadata": {},
   "outputs": [],
   "source": [
    "#Exercises ➞ Level 2"
   ]
  },
  {
   "cell_type": "code",
   "execution_count": 13,
   "id": "4644aa23",
   "metadata": {},
   "outputs": [
    {
     "name": "stdout",
     "output_type": "stream",
     "text": [
      "set()\n"
     ]
    }
   ],
   "source": [
    "\n",
    "#Use Imaginary values for Set A and B\n",
    "#1.\tJoin A and B\n",
    "print(A.union(B))\n"
   ]
  },
  {
   "cell_type": "code",
   "execution_count": 5,
   "id": "9d0e6239",
   "metadata": {},
   "outputs": [
    {
     "name": "stdout",
     "output_type": "stream",
     "text": [
      "{19, 20, 22, 24, 25, 26}\n"
     ]
    }
   ],
   "source": [
    "#2.\tFind A intersection B\n",
    "print(A.intersection(B))  \n"
   ]
  },
  {
   "cell_type": "code",
   "execution_count": 6,
   "id": "c787b37b",
   "metadata": {},
   "outputs": [
    {
     "name": "stdout",
     "output_type": "stream",
     "text": [
      "True\n"
     ]
    }
   ],
   "source": [
    "#3.\tIs A subset of B\n",
    "print(A.issubset(B))  "
   ]
  },
  {
   "cell_type": "code",
   "execution_count": 8,
   "id": "f507de06",
   "metadata": {},
   "outputs": [
    {
     "name": "stdout",
     "output_type": "stream",
     "text": [
      "A and be are NOT disjoint\n"
     ]
    }
   ],
   "source": [
    "#4.\tAre A and B disjoint sets\n",
    "E = A.intersection(B)\n",
    "if len(E) == 0:\n",
    "    print('A and B are disjoint')\n",
    "else:\n",
    "    print('A and be are NOT disjoint')\n"
   ]
  },
  {
   "cell_type": "code",
   "execution_count": 9,
   "id": "6c4f2e23",
   "metadata": {},
   "outputs": [
    {
     "name": "stdout",
     "output_type": "stream",
     "text": [
      "{19, 20, 22, 24, 25, 26, 27, 28}\n"
     ]
    }
   ],
   "source": [
    "#5.\tJoin A with B and B with A\n",
    "C = A.union(B)\n",
    "D = B.union(A)\n",
    "print(C.union(D))\n",
    "\n"
   ]
  },
  {
   "cell_type": "code",
   "execution_count": 10,
   "id": "371d6140",
   "metadata": {},
   "outputs": [
    {
     "name": "stdout",
     "output_type": "stream",
     "text": [
      "{27, 28}\n"
     ]
    }
   ],
   "source": [
    "#6.\tWhat is the symmetric difference between A and B\n",
    "print(A.symmetric_difference(B)) "
   ]
  },
  {
   "cell_type": "code",
   "execution_count": 11,
   "id": "ffb28159",
   "metadata": {},
   "outputs": [],
   "source": [
    "#7.\tDelete the sets completely\n",
    "A.clear()\n",
    "B.clear()\n",
    "C.clear()\n",
    "D.clear()\n"
   ]
  },
  {
   "cell_type": "code",
   "execution_count": 14,
   "id": "c841579c",
   "metadata": {},
   "outputs": [],
   "source": [
    "#Excercise- level3"
   ]
  },
  {
   "cell_type": "code",
   "execution_count": 15,
   "id": "173c003d",
   "metadata": {},
   "outputs": [
    {
     "name": "stdout",
     "output_type": "stream",
     "text": [
      "8\n",
      "8\n"
     ]
    }
   ],
   "source": [
    "#1.\tConvert the num to a set and compare the length of the list and the set, which one is bigger?\n",
    "num_list = list(num)\n",
    "# comparing the lengths of the list and num(set)\n",
    "print(len(num_list))\n",
    "print(len(num))  \n"
   ]
  },
  {
   "cell_type": "code",
   "execution_count": 16,
   "id": "9c91f0c5",
   "metadata": {},
   "outputs": [],
   "source": [
    "#2.\tExplain the difference between the following data types: string, list, tuple and set\n",
    "#string: is a data type which stores a collection of characters\n",
    "#list: is a linear  data type consisting of a collection of itemsof different data types which are ordered,indexed&mutable\n",
    "# tuple: is a data type consisting of a collection of items which are indexed ,ordered but is immutable\n",
    "#sets: is a colection of items which arent ordered and the elements must be unique and is mutable\n"
   ]
  },
  {
   "cell_type": "code",
   "execution_count": 17,
   "id": "d802662a",
   "metadata": {},
   "outputs": [
    {
     "name": "stdout",
     "output_type": "stream",
     "text": [
      "{'am', 'teacher', 'teach', 'love', 'researcher', 'inspire', 'people', 'cum', 'and', 'I', 'A', 'to'}\n"
     ]
    }
   ],
   "source": [
    "#3.\tI am a researcher cum teacher and I love to inspire and teach people \n",
    "#How many unique words have been used in the sentence? Use the split() methods and set to get the unique words.\n",
    "line = \" I am A researcher cum teacher and I love to inspire and teach people \"\n",
    "# creating slice objects of the slice() method\n",
    "s = slice(1, 2)\n",
    "s1 = slice(3, 5)\n",
    "s2 = slice(6, 7)\n",
    "s3 = slice(8, 18)\n",
    "s4 = slice(19, 22)\n",
    "s5 = slice(23, 30)\n",
    "s6 = slice(31, 34)\n",
    "s7 = slice(35, 36)\n",
    "s8 = slice(37, 41)\n",
    "s9 = slice(42, 44)\n",
    "s10 = slice(45, 52)\n",
    "s11 = slice(53, 56)\n",
    "s12 = slice(57, 62)\n",
    "s13 = slice(63, 69)\n",
    "# keeping the sliced objects:words in a set to get the unique ones only\n",
    "set_a = {line[s], line[s1], line[s2], line[s3], line[s4], line[s5], line[s6],\n",
    "         line[s7], line[s8], line[s9], line[s10], line[s11], line[s12], line[s13]}\n",
    "print(set_a)  # prints the unique words only\n"
   ]
  },
  {
   "cell_type": "code",
   "execution_count": null,
   "id": "e60d4820",
   "metadata": {},
   "outputs": [],
   "source": []
  }
 ],
 "metadata": {
  "kernelspec": {
   "display_name": "Python 3 (ipykernel)",
   "language": "python",
   "name": "python3"
  },
  "language_info": {
   "codemirror_mode": {
    "name": "ipython",
    "version": 3
   },
   "file_extension": ".py",
   "mimetype": "text/x-python",
   "name": "python",
   "nbconvert_exporter": "python",
   "pygments_lexer": "ipython3",
   "version": "3.9.7"
  }
 },
 "nbformat": 4,
 "nbformat_minor": 5
}
