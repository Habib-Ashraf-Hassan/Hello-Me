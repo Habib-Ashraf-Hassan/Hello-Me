{
 "cells": [
  {
   "cell_type": "code",
   "execution_count": 1,
   "id": "f96b016f",
   "metadata": {},
   "outputs": [],
   "source": [
    "# creating a function to calculate LCM\n",
    "#Hint1: LCM is always >= maximum of the two numbers \n",
    "## eg: lcm of 2 and 8 is 8 and lcm of 12 and 18 is 36"
   ]
  },
  {
   "cell_type": "code",
   "execution_count": 10,
   "id": "d1eeb54e",
   "metadata": {},
   "outputs": [],
   "source": [
    "# Hint2: LCM is divisible by both the two numbers\n",
    "#create function of lcm\n",
    "def lcm(a,b):\n",
    "    numbers = []\n",
    "    \n",
    "    numbers.extend([a,b])\n",
    "    maximum = max(numbers)  ## finding the maximum of the 2 numbers\n",
    "    while maximum % a != 0 or maximum % b != 0:  # ensuring maximum is divisible by both numbers\n",
    "        maximum += 1\n",
    "    return maximum\n",
    "        \n",
    "        "
   ]
  },
  {
   "cell_type": "code",
   "execution_count": 11,
   "id": "c9c921cb",
   "metadata": {},
   "outputs": [
    {
     "name": "stdout",
     "output_type": "stream",
     "text": [
      "6\n"
     ]
    }
   ],
   "source": [
    "print(lcm(2, 6))"
   ]
  },
  {
   "cell_type": "code",
   "execution_count": 12,
   "id": "3ba15314",
   "metadata": {},
   "outputs": [
    {
     "name": "stdout",
     "output_type": "stream",
     "text": [
      "36\n"
     ]
    }
   ],
   "source": [
    "print(lcm(12, 18))"
   ]
  },
  {
   "cell_type": "code",
   "execution_count": 13,
   "id": "5cd8a422",
   "metadata": {},
   "outputs": [
    {
     "name": "stdout",
     "output_type": "stream",
     "text": [
      "99\n"
     ]
    }
   ],
   "source": [
    "print(lcm(9, 11))"
   ]
  },
  {
   "cell_type": "code",
   "execution_count": 14,
   "id": "ea6c1158",
   "metadata": {},
   "outputs": [
    {
     "name": "stdout",
     "output_type": "stream",
     "text": [
      "60\n"
     ]
    }
   ],
   "source": [
    "print(lcm(15, 12))"
   ]
  },
  {
   "cell_type": "code",
   "execution_count": null,
   "id": "e4bb6d9b",
   "metadata": {},
   "outputs": [],
   "source": []
  }
 ],
 "metadata": {
  "kernelspec": {
   "display_name": "Python 3 (ipykernel)",
   "language": "python",
   "name": "python3"
  },
  "language_info": {
   "codemirror_mode": {
    "name": "ipython",
    "version": 3
   },
   "file_extension": ".py",
   "mimetype": "text/x-python",
   "name": "python",
   "nbconvert_exporter": "python",
   "pygments_lexer": "ipython3",
   "version": "3.9.7"
  }
 },
 "nbformat": 4,
 "nbformat_minor": 5
}
