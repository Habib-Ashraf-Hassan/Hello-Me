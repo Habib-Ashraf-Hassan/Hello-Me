{
 "cells": [
  {
   "cell_type": "code",
   "execution_count": 1,
   "id": "196c04c1",
   "metadata": {},
   "outputs": [],
   "source": [
    "##Excercise-Tuples level 1"
   ]
  },
  {
   "cell_type": "code",
   "execution_count": 2,
   "id": "c216a099",
   "metadata": {},
   "outputs": [],
   "source": [
    "#Create a tuple containg fruits and vegetables"
   ]
  },
  {
   "cell_type": "code",
   "execution_count": 3,
   "id": "8319f974",
   "metadata": {},
   "outputs": [],
   "source": [
    "fruits = ('mango', 'apple', 'grapes')\n",
    "vegetables = ('carrot', 'peas', 'spinach')\n"
   ]
  },
  {
   "cell_type": "code",
   "execution_count": 4,
   "id": "d78194dc",
   "metadata": {},
   "outputs": [],
   "source": [
    "#Join fruits and vegetables and assign it to fruits_vegetables"
   ]
  },
  {
   "cell_type": "code",
   "execution_count": 5,
   "id": "5d3fe02b",
   "metadata": {},
   "outputs": [],
   "source": [
    "fruits_vegetables = fruits + vegetables"
   ]
  },
  {
   "cell_type": "code",
   "execution_count": 6,
   "id": "38b4d883",
   "metadata": {},
   "outputs": [
    {
     "name": "stdout",
     "output_type": "stream",
     "text": [
      "6\n"
     ]
    }
   ],
   "source": [
    "#How many fruits_vegetables do you have\n",
    "print(len(fruits_vegetables))"
   ]
  },
  {
   "cell_type": "code",
   "execution_count": 8,
   "id": "77a8e565",
   "metadata": {},
   "outputs": [],
   "source": [
    "#Modify fruits_vegetables and add the name of your favorite mushroom and beverage\n",
    "# and assign it to food_tuple\n",
    "favorite = ('mushroom', 'coffee')\n",
    "food_tuple = fruits_vegetables + favorite"
   ]
  },
  {
   "cell_type": "code",
   "execution_count": 9,
   "id": "9a01d5ef",
   "metadata": {},
   "outputs": [],
   "source": [
    "## Excercise-level 2\n",
    "#Unpack fruits vegetables and mushroom and beverage from food_tuple\n",
    "a, b, c, d, e, f, g, h = food_tuple"
   ]
  },
  {
   "cell_type": "code",
   "execution_count": 10,
   "id": "bfe02070",
   "metadata": {},
   "outputs": [],
   "source": [
    "#Change food_tuple into a list\n",
    "food_list = list(food_tuple)"
   ]
  },
  {
   "cell_type": "code",
   "execution_count": 11,
   "id": "c6b69bf5",
   "metadata": {},
   "outputs": [
    {
     "name": "stdout",
     "output_type": "stream",
     "text": [
      "['carrot', 'peas']\n"
     ]
    }
   ],
   "source": [
    "#Slice out the middle items from food_tuple/food_list\n",
    "print(food_list[3:5])\n"
   ]
  },
  {
   "cell_type": "code",
   "execution_count": 12,
   "id": "f624e004",
   "metadata": {},
   "outputs": [
    {
     "name": "stdout",
     "output_type": "stream",
     "text": [
      "['mango', 'apple', 'grapes']\n",
      "['coffee', 'mushroom', 'spinach']\n"
     ]
    }
   ],
   "source": [
    "#Slice out the first and last three items from food_list\n",
    "print(food_list[0:3])\n",
    "print(food_list[-1:-4:-1])\n",
    "\n"
   ]
  },
  {
   "cell_type": "code",
   "execution_count": 13,
   "id": "2b943181",
   "metadata": {},
   "outputs": [],
   "source": [
    "#Delete the food_tuple completely\n",
    "del food_tuple\n"
   ]
  },
  {
   "cell_type": "code",
   "execution_count": 14,
   "id": "325ba3e9",
   "metadata": {},
   "outputs": [
    {
     "name": "stdout",
     "output_type": "stream",
     "text": [
      "False\n"
     ]
    }
   ],
   "source": [
    "#Check if Finland is an asian country\n",
    "#Check if India is an asian country\n",
    "asian_countries = ('India', 'China', 'Singapore', 'Thailand', 'Indonesia')\n",
    "print('Finland' in asian_countries)\n"
   ]
  },
  {
   "cell_type": "code",
   "execution_count": 15,
   "id": "4ea59f9b",
   "metadata": {},
   "outputs": [
    {
     "name": "stdout",
     "output_type": "stream",
     "text": [
      "True\n"
     ]
    }
   ],
   "source": [
    "print('India'in asian_countries)"
   ]
  },
  {
   "cell_type": "code",
   "execution_count": null,
   "id": "943c9020",
   "metadata": {},
   "outputs": [],
   "source": []
  }
 ],
 "metadata": {
  "kernelspec": {
   "display_name": "Python 3 (ipykernel)",
   "language": "python",
   "name": "python3"
  },
  "language_info": {
   "codemirror_mode": {
    "name": "ipython",
    "version": 3
   },
   "file_extension": ".py",
   "mimetype": "text/x-python",
   "name": "python",
   "nbconvert_exporter": "python",
   "pygments_lexer": "ipython3",
   "version": "3.9.7"
  }
 },
 "nbformat": 4,
 "nbformat_minor": 5
}
